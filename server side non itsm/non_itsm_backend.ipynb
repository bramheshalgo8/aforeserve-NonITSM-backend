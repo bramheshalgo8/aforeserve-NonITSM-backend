{
 "cells": [
  {
   "cell_type": "code",
   "execution_count": 2,
   "metadata": {},
   "outputs": [
    {
     "name": "stdout",
     "output_type": "stream",
     "text": [
      " * Serving Flask app \"__main__\" (lazy loading)\n",
      " * Environment: production\n",
      "\u001b[31m   WARNING: This is a development server. Do not use it in a production deployment.\u001b[0m\n",
      "\u001b[2m   Use a production WSGI server instead.\u001b[0m\n",
      " * Debug mode: off\n"
     ]
    },
    {
     "name": "stderr",
     "output_type": "stream",
     "text": [
      " * Running on http://0.0.0.0:7006/ (Press CTRL+C to quit)\n",
      "139.5.254.242 - - [28/Jul/2020 08:21:05] \"\u001b[37mGET /getalluniqueid HTTP/1.1\u001b[0m\" 200 -\n",
      "139.5.254.242 - - [28/Jul/2020 08:21:05] \"\u001b[37mGET /inoutserver/aae3c695ce7f11ea968c08979870b990 HTTP/1.1\u001b[0m\" 200 -\n"
     ]
    },
    {
     "name": "stdout",
     "output_type": "stream",
     "text": [
      "          Hostname   IP_Address                            MAC_ID  \\\n",
      "0  LAPTOP-KE0MC8QD  192.168.0.5  aae3c695ce7f11ea968c08979870b990   \n",
      "\n",
      "  Serial_Number                 OS_Version Laptop_Desktop  \\\n",
      "0         12345  Windows-10-10.0.18362-SP0           desk   \n",
      "\n",
      "               IN_SERVER          OUT_SERVER Direct_Printers User_Name  \n",
      "0  outlook.office365.com  smtp.office365.com               2     hseth  \n",
      "outlook.office365.com smtp.office365.com\n"
     ]
    },
    {
     "name": "stderr",
     "output_type": "stream",
     "text": [
      "139.5.254.242 - - [28/Jul/2020 08:21:06] \"\u001b[37mGET /userdetails/old/LAPTOP-KE0MC8QD/192.168.0.5/aae3c695ce7f11ea968c08979870b990/12345/Windows-10-10.0.18362-SP0/desk/outlook.office365.com/smtp.office365.com/2/hseth HTTP/1.1\u001b[0m\" 200 -\n"
     ]
    },
    {
     "name": "stdout",
     "output_type": "stream",
     "text": [
      "LAPTOP-KE0MC8QD 192.168.0.5 aae3c695ce7f11ea968c08979870b990 12345 Windows-10-10.0.18362-SP0 desk outlook.office365.com smtp.office365.com 2 hseth\n",
      "update userdetails set Hostname='LAPTOP-KE0MC8QD', IP_Address='192.168.0.5' , Serial_Number='12345' , OS_Version='Windows-10-10.0.18362-SP0' , Laptop_Desktop='desk', Direct_Printers='2' , User_Name='hseth' where MAC_ID = 'aae3c695ce7f11ea968c08979870b990';\n"
     ]
    },
    {
     "name": "stderr",
     "output_type": "stream",
     "text": [
      "139.5.254.242 - - [28/Jul/2020 08:21:35] \"\u001b[37mGET /know/aae3c695ce7f11ea968c08979870b990 HTTP/1.1\u001b[0m\" 200 -\n",
      "139.5.254.242 - - [28/Jul/2020 08:21:43] \"\u001b[37mGET /oldt/12414 HTTP/1.1\u001b[0m\" 200 -\n",
      "139.5.254.242 - - [28/Jul/2020 08:21:55] \"\u001b[37mGET /oldt/12415 HTTP/1.1\u001b[0m\" 200 -\n"
     ]
    }
   ],
   "source": [
    "from flask import Flask, request, render_template, jsonify\n",
    "import random\n",
    "from apscheduler.schedulers.background import BackgroundScheduler\n",
    "import Non_ITSM_ticket_raising\n",
    "from predict import *\n",
    "import pandas as pd\n",
    "import create_db\n",
    "import mail_send\n",
    "import Non_ITSM_ticket_updation\n",
    "\n",
    "app = Flask(__name__)\n",
    "\n",
    "@app.route('/newt/<subject>/<description>/<requester_name>/<macid>', methods = ['GET','POST'])\n",
    "def newt(subject, description, requester_name, macid):\n",
    "    print(subject, description, requester_name, macid)\n",
    "    r_json = Non_ITSM_ticket_raising.raiseTicket(\"sunny singh\",\"hardik.seth@prithvi.ai\",\"9911750445\",description)\n",
    "    print(r_json)\n",
    "    t_id = r_json['Id']\n",
    "#     t_id = \"456\"\n",
    "    print(t_id)\n",
    "    predict(macid)\n",
    "    mail_send.raiseticket('hardik.seth@prithvi.ai','issue',str(t_id))\n",
    "    return str(t_id)\n",
    "\n",
    "@app.route('/inoutserver/<macid>')\n",
    "def inoutserver(macid):\n",
    "    df = create_db.getuser_Data()\n",
    "    df = df.loc[df['MAC_ID']==macid]\n",
    "    print(df)\n",
    "    ins = df['IN_SERVER'].values[0]\n",
    "    outs = df['OUT_SERVER'].values[0]\n",
    "    print(ins,outs)\n",
    "    data = {\n",
    "        'inserver':str(ins),\n",
    "        'outserver':str(outs)\n",
    "    }\n",
    "    return jsonify({'inserver':str(ins),'outserver':str(outs)})\n",
    "\n",
    "@app.route('/userdetails/<key>/<Hostname>/<IP_Address>/<MAC_ID>/<Serial_Number>/<OS_Version>/<Laptop_Desktop>/<IN_SERVER>/<OUT_SERVER>/<Direct_Printers>/<User_Name>', methods=['GET', 'POST'])\n",
    "def userdetail(key,Hostname, IP_Address, MAC_ID, Serial_Number, OS_Version, Laptop_Desktop, IN_SERVER, OUT_SERVER, Direct_Printers, User_Name):\n",
    "    if key == 'old':\n",
    "        print(Hostname, IP_Address, MAC_ID, Serial_Number, OS_Version, Laptop_Desktop, IN_SERVER, OUT_SERVER, Direct_Printers, User_Name)\n",
    "        df = create_db.getuser_Data()\n",
    "        if len(df.loc[df[\"MAC_ID\"] == MAC_ID])>0:\n",
    "            create_db.adduser_update(Hostname, IP_Address, MAC_ID, Serial_Number, OS_Version, Laptop_Desktop, IN_SERVER, OUT_SERVER, Direct_Printers, User_Name)\n",
    "        else:\n",
    "            create_db.adduser_details(Hostname, IP_Address, MAC_ID, Serial_Number, OS_Version, Laptop_Desktop, IN_SERVER, OUT_SERVER, Direct_Printers, User_Name)\n",
    "        return \"done\"\n",
    "    elif key == 'new':\n",
    "        query = \"insert into userdetails values('1','1','\"+str(MAC_ID)+\"','1','1','1','outlook.office365.com','smtp.office365.com','1','1');\"\n",
    "        res = create_db.createnewuser(query)\n",
    "        return 'done'\n",
    "\n",
    "@app.route('/oldt/<tid>', methods = ['GET', 'POST'])\n",
    "def oldt(tid):\n",
    "    query = \"select * from tickets where `Incident ID` = '\"+str(tid)+\"';\"\n",
    "    df = create_db.fetchquery(query)\n",
    "    text = 'You had '+str(df.loc[df[\"Incident ID\"] == str(tid)].Description.values[0])+' issue and status is '+str(df.loc[df[\"Incident ID\"] == str(tid)].Status.values[0])\n",
    "    return text\n",
    "\n",
    "@app.route('/upt/<tid>', methods = ['GET','POST'])\n",
    "def upt(tid):\n",
    "    outp = create_db.updatenew(tid)\n",
    "#     df = create_db.get_data()\n",
    "    query = \"select * from tickets where `Incident ID` ='\"+str(tid)+\"';\"\n",
    "    print(query)\n",
    "    df = create_db.fetchquery(query)\n",
    "    print(df[\"Issue_Class\"][0])\n",
    "    Non_ITSM_ticket_updation.updatetickets(str(tid),'Resolved','Issue has been successfully resolved')\n",
    "    mail_send.updateticket(\"hardik.seth@prithvi.ai\",df[\"Issue_Class\"][0],str(tid))\n",
    "    if outp == 'Updated':\n",
    "        return 'Ticket resolved successfully'\n",
    "    else:\n",
    "        return 'Some Error While Resolving Issue'\n",
    "    return 'Ticket resolved successfully'\n",
    "\n",
    "\n",
    "@app.route('/know/<macid>',methods = ['GET','POST'])\n",
    "def know(macid):\n",
    "    query = \"select * from tickets where MAC_ID = '\"+macid+\"';\"\n",
    "    df = create_db.fetchquery(query)\n",
    "    df = df.to_json()\n",
    "    return df\n",
    "\n",
    "@app.route('/getalluniqueid', methods = ['GET','POST'])\n",
    "def getall():\n",
    "    query = 'select MAC_ID from userdetails'\n",
    "    df = create_db.fetchquery(query)\n",
    "    df = df.to_json()\n",
    "    return df\n",
    "if __name__ == '__main__':\n",
    "    app.run(host = '0.0.0.0', port = 7006)"
   ]
  },
  {
   "cell_type": "code",
   "execution_count": 1,
   "metadata": {},
   "outputs": [
    {
     "name": "stdout",
     "output_type": "stream",
     "text": [
      "12408\n"
     ]
    }
   ],
   "source": [
    "import Non_ITSM_ticket_raising\n",
    "r_json = Non_ITSM_ticket_raising.raiseTicket(\"sunny singh\",\"hardik.seth@prithvi.ai\",\"9911750445\",\"printer_not working properly\")\n",
    "print(r_json['Id'])"
   ]
  },
  {
   "cell_type": "code",
   "execution_count": 2,
   "metadata": {},
   "outputs": [
    {
     "name": "stdout",
     "output_type": "stream",
     "text": [
      "[{'complain': {'Id': 12408, 'ComplainNo': 'AFS10012407', 'ContactPerson': 'sunny singh', 'ContactPersonEmail': 'hardik.seth@prithvi.ai', 'ContactPersonPhoneNumber': '9911750445', 'ProblemDescription': 'printer_not working properly', 'SerialNo': '123', 'ComplainStatusId': 1, 'complainstatus': {'Id': 1, 'ComplainStatus': 'New'}, 'ComplainRegDate': '2020-07-25T19:09:52.873', 'location': {'Id': 1, 'LocationName': 'NAIKKANAL TRICHUR (Manappuram Finance Ltd)', 'Office': 'THRISSUR-07', 'District': 'THRISSUR - 2 ', 'Location': 'KERALA', 'Address': 'Thrissur Naikanal Door No. XXIX / 267/6, Brothers Complex, Naikkanal, Thrissur Dt., K.L Pin - 680 001, Phone - 0487-2335544  / 8590394363', 'VendorId': 1, 'VendorList': None}, 'LocationMasterId': 1, 'ComplainType': {'Id': 1, 'ComplainType': 'Service Request'}, 'ComplainTypeId': 1, 'ModelType': {'Id': 1, 'ModelTypeName': 'Safe Camera'}, 'ModelTypeId': 1, 'ProblemType': {'Id': 1, 'ProblemTypeName': 'Desktop Problem'}, 'ProblemTypeId': 1, 'ProblemSubType': {'Id': 63, 'ProblemSubTypeName': 'System Display Problem', 'ProblemTypeId': 1}, 'ProblemSubTypeId': 63, 'Priority': {'Id': 4, 'Priority': 'P1'}, 'PriorityId': 4, 'ComplainAssignmentCollection': None}, 'complainassignment': None, 'OpenTime': '', 'AssignTo': '', 'CloseDate': None, 'ScheduleDate': None, 'ComplainClosureId': None, 'ComplainClosedBy': None}]\n",
      "1\n",
      "Finding ticket attributes and storing it in a dataframe\n",
      "12408 picked up\n",
      "{'Id': 12366, 'AssignmentId': 1, 'Assignment': None, 'ComplainId': 12408, 'Complain': {'Id': 12408, 'ComplainNo': 'AFS10012407', 'ContactPerson': 'sunny singh', 'ContactPersonEmail': 'hardik.seth@prithvi.ai', 'ContactPersonPhoneNumber': '9911750445', 'ProblemDescription': 'printer_not working properly', 'SerialNo': '123', 'ComplainStatusId': 3, 'complainstatus': None, 'ComplainRegDate': '2020-07-25T19:09:52.873', 'location': None, 'LocationMasterId': 1, 'ComplainType': None, 'ComplainTypeId': 1, 'ModelType': None, 'ModelTypeId': 1, 'ProblemType': None, 'ProblemTypeId': 1, 'ProblemSubType': None, 'ProblemSubTypeId': 63, 'Priority': None, 'PriorityId': 4, 'ComplainAssignmentCollection': None}, 'UserId': '87a0c901-a950-4704-84a0-72cccb2690e0', 'User': None, 'ComplainPendingComments': 'Picked up Aforesight BOT', 'ComplainCloseComments': 'Picked up Aforesight BOT', 'Observation': 'Observation', 'ActionTaken': 'Solving by Aforesight Bot', 'AssignmentDate': '2020-07-25T19:09:52.873', 'AssignmentCloseDate': None, 'EngineerAssignedDate': '2020-07-25T19:09:56.4488492+05:30', 'ComplainStatusId': 3, 'ComplainClosedBy': 'Aforesight', 'ComplainClosureId': None, 'ScheduleDate': None}\n",
      "Changed to In Progress\n",
      "Assigned to Aforesight\n",
      "Storing values in a dataframe\n",
      "df sorted is\n",
      "    Incident ID                   Description Private Log       Caller Tenant  \\\n",
      "0        12408  printer_not working properly        None  sunny singh   None   \n",
      "\n",
      "                User_Mail                                    Location Medium  \\\n",
      "0  hardik.seth@prithvi.ai  NAIKKANAL TRICHUR (Manappuram Finance Ltd)   None   \n",
      "\n",
      "  Source              Logged Time Urgency Impact Priority   Work Group  \\\n",
      "0   None  2020-07-25T19:09:52.873      P1     P1       P1  THRISSUR-07   \n",
      "\n",
      "  Assigned To Service Window MAC_ID  \n",
      "0                       None     12  \n",
      "Calling the prediction script for ticket classification\n",
      "Done\n",
      "updated\n"
     ]
    },
    {
     "name": "stderr",
     "output_type": "stream",
     "text": [
      "/home/dev/.local/lib/python3.6/site-packages/sklearn/base.py:306: UserWarning: Trying to unpickle estimator TfidfTransformer from version 0.20.4 when using version 0.21.2. This might lead to breaking code or invalid results. Use at your own risk.\n",
      "  UserWarning)\n",
      "/home/dev/.local/lib/python3.6/site-packages/sklearn/base.py:306: UserWarning: Trying to unpickle estimator TfidfVectorizer from version 0.20.4 when using version 0.21.2. This might lead to breaking code or invalid results. Use at your own risk.\n",
      "  UserWarning)\n",
      "/home/dev/.local/lib/python3.6/site-packages/sklearn/base.py:306: UserWarning: Trying to unpickle estimator LabelEncoder from version 0.20.4 when using version 0.21.2. This might lead to breaking code or invalid results. Use at your own risk.\n",
      "  UserWarning)\n"
     ]
    }
   ],
   "source": [
    "from predict import *\n",
    "predict(\"12\")"
   ]
  },
  {
   "cell_type": "code",
   "execution_count": null,
   "metadata": {},
   "outputs": [],
   "source": []
  }
 ],
 "metadata": {
  "kernelspec": {
   "display_name": "Python 3",
   "language": "python",
   "name": "python3"
  },
  "language_info": {
   "codemirror_mode": {
    "name": "ipython",
    "version": 3
   },
   "file_extension": ".py",
   "mimetype": "text/x-python",
   "name": "python",
   "nbconvert_exporter": "python",
   "pygments_lexer": "ipython3",
   "version": "3.6.9"
  }
 },
 "nbformat": 4,
 "nbformat_minor": 4
}
